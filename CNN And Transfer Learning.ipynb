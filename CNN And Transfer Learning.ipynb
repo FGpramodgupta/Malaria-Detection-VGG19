{
 "cells": [
  {
   "cell_type": "markdown",
   "metadata": {},
   "source": [
    "## Creating CNN Using Scratch And Transfer Learning"
   ]
  },
  {
   "cell_type": "markdown",
   "metadata": {},
   "source": [
    "Please download the dataset from the below url"
   ]
  },
  {
   "cell_type": "code",
   "execution_count": 2,
   "metadata": {},
   "outputs": [],
   "source": [
    "# import the libraries as shown below\n",
    "\n",
    "from tensorflow.keras.layers import Input, Lambda, Dense, Flatten,Conv2D\n",
    "from tensorflow.keras.models import Model\n",
    "from tensorflow.keras.applications.vgg19 import VGG19\n",
    "from tensorflow.keras.applications.resnet50 import preprocess_input\n",
    "from tensorflow.keras.preprocessing import image\n",
    "from tensorflow.keras.preprocessing.image import ImageDataGenerator,load_img\n",
    "from tensorflow.keras.models import Sequential\n",
    "import numpy as np\n",
    "from glob import glob\n",
    "import matplotlib.pyplot as plt"
   ]
  },
  {
   "cell_type": "code",
   "execution_count": 3,
   "metadata": {},
   "outputs": [],
   "source": [
    "# re-size all the images to this\n",
    "IMAGE_SIZE = [224, 224]\n",
    "\n",
    "train_path = 'Dataset/Train'\n",
    "valid_path = 'Dataset/Test'\n"
   ]
  },
  {
   "cell_type": "code",
   "execution_count": 4,
   "metadata": {},
   "outputs": [
    {
     "name": "stdout",
     "output_type": "stream",
     "text": [
      "Downloading data from https://github.com/fchollet/deep-learning-models/releases/download/v0.1/vgg19_weights_tf_dim_ordering_tf_kernels_notop.h5\n",
      "80142336/80134624 [==============================] - 57s 1us/step\n"
     ]
    }
   ],
   "source": [
    "# Import the Vgg 16 library as shown below and add preprocessing layer to the front of VGG\n",
    "# Here we will be using imagenet weights\n",
    "\n",
    "mobilnet = VGG19(input_shape=IMAGE_SIZE + [3], weights='imagenet', include_top=False)\n",
    "\n",
    "\n"
   ]
  },
  {
   "cell_type": "code",
   "execution_count": 6,
   "metadata": {},
   "outputs": [],
   "source": [
    "# don't train existing weights\n",
    "for layer in mobilnet.layers:\n",
    "    layer.trainable = False"
   ]
  },
  {
   "cell_type": "code",
   "execution_count": 7,
   "metadata": {},
   "outputs": [],
   "source": [
    "  # useful for getting number of output classes\n",
    "folders = glob('Dataset/Train/*')"
   ]
  },
  {
   "cell_type": "code",
   "execution_count": 8,
   "metadata": {},
   "outputs": [
    {
     "data": {
      "text/plain": [
       "['Dataset/Train\\\\Parasite', 'Dataset/Train\\\\Uninfected']"
      ]
     },
     "execution_count": 8,
     "metadata": {},
     "output_type": "execute_result"
    }
   ],
   "source": [
    "folders"
   ]
  },
  {
   "cell_type": "code",
   "execution_count": 9,
   "metadata": {},
   "outputs": [],
   "source": [
    "# our layers - you can add more if you want\n",
    "x = Flatten()(mobilnet.output)"
   ]
  },
  {
   "cell_type": "code",
   "execution_count": 10,
   "metadata": {},
   "outputs": [],
   "source": [
    "prediction = Dense(len(folders), activation='softmax')(x)\n",
    "\n",
    "# create a model object\n",
    "model = Model(inputs=mobilnet.input, outputs=prediction)"
   ]
  },
  {
   "cell_type": "code",
   "execution_count": 11,
   "metadata": {},
   "outputs": [
    {
     "name": "stdout",
     "output_type": "stream",
     "text": [
      "Model: \"model\"\n",
      "_________________________________________________________________\n",
      "Layer (type)                 Output Shape              Param #   \n",
      "=================================================================\n",
      "input_1 (InputLayer)         [(None, 224, 224, 3)]     0         \n",
      "_________________________________________________________________\n",
      "block1_conv1 (Conv2D)        (None, 224, 224, 64)      1792      \n",
      "_________________________________________________________________\n",
      "block1_conv2 (Conv2D)        (None, 224, 224, 64)      36928     \n",
      "_________________________________________________________________\n",
      "block1_pool (MaxPooling2D)   (None, 112, 112, 64)      0         \n",
      "_________________________________________________________________\n",
      "block2_conv1 (Conv2D)        (None, 112, 112, 128)     73856     \n",
      "_________________________________________________________________\n",
      "block2_conv2 (Conv2D)        (None, 112, 112, 128)     147584    \n",
      "_________________________________________________________________\n",
      "block2_pool (MaxPooling2D)   (None, 56, 56, 128)       0         \n",
      "_________________________________________________________________\n",
      "block3_conv1 (Conv2D)        (None, 56, 56, 256)       295168    \n",
      "_________________________________________________________________\n",
      "block3_conv2 (Conv2D)        (None, 56, 56, 256)       590080    \n",
      "_________________________________________________________________\n",
      "block3_conv3 (Conv2D)        (None, 56, 56, 256)       590080    \n",
      "_________________________________________________________________\n",
      "block3_conv4 (Conv2D)        (None, 56, 56, 256)       590080    \n",
      "_________________________________________________________________\n",
      "block3_pool (MaxPooling2D)   (None, 28, 28, 256)       0         \n",
      "_________________________________________________________________\n",
      "block4_conv1 (Conv2D)        (None, 28, 28, 512)       1180160   \n",
      "_________________________________________________________________\n",
      "block4_conv2 (Conv2D)        (None, 28, 28, 512)       2359808   \n",
      "_________________________________________________________________\n",
      "block4_conv3 (Conv2D)        (None, 28, 28, 512)       2359808   \n",
      "_________________________________________________________________\n",
      "block4_conv4 (Conv2D)        (None, 28, 28, 512)       2359808   \n",
      "_________________________________________________________________\n",
      "block4_pool (MaxPooling2D)   (None, 14, 14, 512)       0         \n",
      "_________________________________________________________________\n",
      "block5_conv1 (Conv2D)        (None, 14, 14, 512)       2359808   \n",
      "_________________________________________________________________\n",
      "block5_conv2 (Conv2D)        (None, 14, 14, 512)       2359808   \n",
      "_________________________________________________________________\n",
      "block5_conv3 (Conv2D)        (None, 14, 14, 512)       2359808   \n",
      "_________________________________________________________________\n",
      "block5_conv4 (Conv2D)        (None, 14, 14, 512)       2359808   \n",
      "_________________________________________________________________\n",
      "block5_pool (MaxPooling2D)   (None, 7, 7, 512)         0         \n",
      "_________________________________________________________________\n",
      "flatten (Flatten)            (None, 25088)             0         \n",
      "_________________________________________________________________\n",
      "dense (Dense)                (None, 2)                 50178     \n",
      "=================================================================\n",
      "Total params: 20,074,562\n",
      "Trainable params: 50,178\n",
      "Non-trainable params: 20,024,384\n",
      "_________________________________________________________________\n"
     ]
    }
   ],
   "source": [
    "\n",
    "# view the structure of the model\n",
    "model.summary()\n"
   ]
  },
  {
   "cell_type": "code",
   "execution_count": 12,
   "metadata": {},
   "outputs": [],
   "source": [
    "from tensorflow.keras.layers import MaxPooling2D"
   ]
  },
  {
   "cell_type": "code",
   "execution_count": 13,
   "metadata": {},
   "outputs": [
    {
     "name": "stdout",
     "output_type": "stream",
     "text": [
      "Model: \"sequential\"\n",
      "_________________________________________________________________\n",
      "Layer (type)                 Output Shape              Param #   \n",
      "=================================================================\n",
      "conv2d (Conv2D)              (None, 224, 224, 16)      208       \n",
      "_________________________________________________________________\n",
      "max_pooling2d (MaxPooling2D) (None, 112, 112, 16)      0         \n",
      "_________________________________________________________________\n",
      "conv2d_1 (Conv2D)            (None, 112, 112, 32)      2080      \n",
      "_________________________________________________________________\n",
      "max_pooling2d_1 (MaxPooling2 (None, 56, 56, 32)        0         \n",
      "_________________________________________________________________\n",
      "conv2d_2 (Conv2D)            (None, 56, 56, 64)        8256      \n",
      "_________________________________________________________________\n",
      "max_pooling2d_2 (MaxPooling2 (None, 28, 28, 64)        0         \n",
      "_________________________________________________________________\n",
      "flatten_1 (Flatten)          (None, 50176)             0         \n",
      "_________________________________________________________________\n",
      "dense_1 (Dense)              (None, 500)               25088500  \n",
      "_________________________________________________________________\n",
      "dense_2 (Dense)              (None, 2)                 1002      \n",
      "=================================================================\n",
      "Total params: 25,100,046\n",
      "Trainable params: 25,100,046\n",
      "Non-trainable params: 0\n",
      "_________________________________________________________________\n"
     ]
    }
   ],
   "source": [
    "### Create Model from scratch using CNN\n",
    "model=Sequential()\n",
    "model.add(Conv2D(filters=16,kernel_size=2,padding=\"same\",activation=\"relu\",input_shape=(224,224,3)))\n",
    "model.add(MaxPooling2D(pool_size=2))\n",
    "model.add(Conv2D(filters=32,kernel_size=2,padding=\"same\",activation =\"relu\"))\n",
    "model.add(MaxPooling2D(pool_size=2))\n",
    "model.add(Conv2D(filters=64,kernel_size=2,padding=\"same\",activation=\"relu\"))\n",
    "model.add(MaxPooling2D(pool_size=2))\n",
    "model.add(Flatten())\n",
    "model.add(Dense(500,activation=\"relu\"))\n",
    "model.add(Dense(2,activation=\"softmax\"))\n",
    "model.summary()"
   ]
  },
  {
   "cell_type": "code",
   "execution_count": 14,
   "metadata": {},
   "outputs": [],
   "source": [
    "# tell the model what cost and optimization method to use\n",
    "model.compile(\n",
    "  loss='categorical_crossentropy',\n",
    "  optimizer='adam',\n",
    "  metrics=['accuracy']\n",
    ")\n"
   ]
  },
  {
   "cell_type": "code",
   "execution_count": 15,
   "metadata": {},
   "outputs": [],
   "source": [
    "# Use the Image Data Generator to import the images from the dataset\n",
    "from tensorflow.keras.preprocessing.image import ImageDataGenerator\n",
    "\n",
    "train_datagen = ImageDataGenerator(rescale = 1./255,\n",
    "                                   shear_range = 0.2,\n",
    "                                   zoom_range = 0.2,\n",
    "                                   horizontal_flip = True)\n",
    "\n",
    "test_datagen = ImageDataGenerator(rescale = 1./255)"
   ]
  },
  {
   "cell_type": "code",
   "execution_count": 16,
   "metadata": {},
   "outputs": [
    {
     "name": "stdout",
     "output_type": "stream",
     "text": [
      "Found 416 images belonging to 2 classes.\n"
     ]
    }
   ],
   "source": [
    "# Make sure you provide the same target size as initialied for the image size\n",
    "training_set = train_datagen.flow_from_directory('Dataset/Train',\n",
    "                                                 target_size = (224, 224),\n",
    "                                                 batch_size = 32,\n",
    "                                                 class_mode = 'categorical')"
   ]
  },
  {
   "cell_type": "code",
   "execution_count": 17,
   "metadata": {},
   "outputs": [
    {
     "data": {
      "text/plain": [
       "<keras_preprocessing.image.directory_iterator.DirectoryIterator at 0x141dfe355c8>"
      ]
     },
     "execution_count": 17,
     "metadata": {},
     "output_type": "execute_result"
    }
   ],
   "source": [
    "training_set"
   ]
  },
  {
   "cell_type": "code",
   "execution_count": 18,
   "metadata": {},
   "outputs": [
    {
     "name": "stdout",
     "output_type": "stream",
     "text": [
      "Found 134 images belonging to 2 classes.\n"
     ]
    }
   ],
   "source": [
    "test_set = test_datagen.flow_from_directory('Dataset/Test',\n",
    "                                            target_size = (224, 224),\n",
    "                                            batch_size = 32,\n",
    "                                            class_mode = 'categorical')"
   ]
  },
  {
   "cell_type": "code",
   "execution_count": 20,
   "metadata": {
    "scrolled": true
   },
   "outputs": [
    {
     "name": "stdout",
     "output_type": "stream",
     "text": [
      "WARNING:tensorflow:From <ipython-input-20-69229fe26ea3>:8: Model.fit_generator (from tensorflow.python.keras.engine.training) is deprecated and will be removed in a future version.\n",
      "Instructions for updating:\n",
      "Please use Model.fit, which supports generators.\n",
      "WARNING:tensorflow:sample_weight modes were coerced from\n",
      "  ...\n",
      "    to  \n",
      "  ['...']\n",
      "WARNING:tensorflow:sample_weight modes were coerced from\n",
      "  ...\n",
      "    to  \n",
      "  ['...']\n",
      "Train for 13 steps, validate for 5 steps\n",
      "Epoch 1/50\n",
      "13/13 [==============================] - 37s 3s/step - loss: 1.8273 - accuracy: 0.4688 - val_loss: 0.6540 - val_accuracy: 0.6791\n",
      "Epoch 2/50\n",
      "13/13 [==============================] - 18s 1s/step - loss: 0.6924 - accuracy: 0.5337 - val_loss: 0.6739 - val_accuracy: 0.6791\n",
      "Epoch 3/50\n",
      "13/13 [==============================] - 21s 2s/step - loss: 0.6770 - accuracy: 0.5697 - val_loss: 0.6992 - val_accuracy: 0.4254\n",
      "Epoch 4/50\n",
      "13/13 [==============================] - 18s 1s/step - loss: 0.6240 - accuracy: 0.6683 - val_loss: 0.7510 - val_accuracy: 0.3955\n",
      "Epoch 5/50\n",
      "13/13 [==============================] - 19s 1s/step - loss: 0.5622 - accuracy: 0.7139 - val_loss: 0.8090 - val_accuracy: 0.4030\n",
      "Epoch 6/50\n",
      "13/13 [==============================] - 18s 1s/step - loss: 0.5141 - accuracy: 0.7091 - val_loss: 0.8701 - val_accuracy: 0.3955\n",
      "Epoch 7/50\n",
      "13/13 [==============================] - 18s 1s/step - loss: 0.5632 - accuracy: 0.6851 - val_loss: 0.7197 - val_accuracy: 0.4701\n",
      "Epoch 8/50\n",
      "13/13 [==============================] - 19s 1s/step - loss: 0.4449 - accuracy: 0.7837 - val_loss: 1.0073 - val_accuracy: 0.4030\n",
      "Epoch 9/50\n",
      "13/13 [==============================] - 19s 1s/step - loss: 0.4821 - accuracy: 0.7548 - val_loss: 0.7776 - val_accuracy: 0.4328\n",
      "Epoch 10/50\n",
      "13/13 [==============================] - 19s 1s/step - loss: 0.4026 - accuracy: 0.8269 - val_loss: 0.7799 - val_accuracy: 0.4701\n",
      "Epoch 11/50\n",
      "13/13 [==============================] - 21s 2s/step - loss: 0.3708 - accuracy: 0.8197 - val_loss: 0.7028 - val_accuracy: 0.5373\n",
      "Epoch 12/50\n",
      "13/13 [==============================] - 20s 2s/step - loss: 0.3607 - accuracy: 0.8678 - val_loss: 0.6695 - val_accuracy: 0.5522\n",
      "Epoch 13/50\n",
      "13/13 [==============================] - 19s 1s/step - loss: 0.3008 - accuracy: 0.8630 - val_loss: 0.4980 - val_accuracy: 0.7313\n",
      "Epoch 14/50\n",
      "13/13 [==============================] - 19s 1s/step - loss: 0.2638 - accuracy: 0.9159 - val_loss: 0.4789 - val_accuracy: 0.7761\n",
      "Epoch 15/50\n",
      "13/13 [==============================] - 19s 1s/step - loss: 0.2288 - accuracy: 0.9183 - val_loss: 0.4265 - val_accuracy: 0.7910\n",
      "Epoch 16/50\n",
      "13/13 [==============================] - 19s 1s/step - loss: 0.2136 - accuracy: 0.9255 - val_loss: 0.5730 - val_accuracy: 0.7090\n",
      "Epoch 17/50\n",
      "13/13 [==============================] - 20s 2s/step - loss: 0.2068 - accuracy: 0.9351 - val_loss: 0.6286 - val_accuracy: 0.6716\n",
      "Epoch 18/50\n",
      "13/13 [==============================] - 19s 1s/step - loss: 0.2254 - accuracy: 0.9111 - val_loss: 0.4411 - val_accuracy: 0.7761\n",
      "Epoch 19/50\n",
      "13/13 [==============================] - 19s 1s/step - loss: 0.1918 - accuracy: 0.9279 - val_loss: 0.4498 - val_accuracy: 0.7761\n",
      "Epoch 20/50\n",
      "13/13 [==============================] - 19s 1s/step - loss: 0.2334 - accuracy: 0.9087 - val_loss: 0.3425 - val_accuracy: 0.8657\n",
      "Epoch 21/50\n",
      "13/13 [==============================] - 19s 1s/step - loss: 0.1753 - accuracy: 0.9519 - val_loss: 0.2647 - val_accuracy: 0.8881\n",
      "Epoch 22/50\n",
      "13/13 [==============================] - 19s 1s/step - loss: 0.1364 - accuracy: 0.9567 - val_loss: 0.3294 - val_accuracy: 0.8358\n",
      "Epoch 23/50\n",
      "13/13 [==============================] - 19s 1s/step - loss: 0.1439 - accuracy: 0.9712 - val_loss: 0.5630 - val_accuracy: 0.8060\n",
      "Epoch 24/50\n",
      "13/13 [==============================] - 20s 2s/step - loss: 0.2972 - accuracy: 0.8798 - val_loss: 0.5444 - val_accuracy: 0.7388\n",
      "Epoch 25/50\n",
      "13/13 [==============================] - 20s 2s/step - loss: 0.2832 - accuracy: 0.8894 - val_loss: 0.8456 - val_accuracy: 0.5896\n",
      "Epoch 26/50\n",
      "13/13 [==============================] - 19s 1s/step - loss: 0.1956 - accuracy: 0.9303 - val_loss: 0.5337 - val_accuracy: 0.7388\n",
      "Epoch 27/50\n",
      "13/13 [==============================] - 19s 1s/step - loss: 0.1757 - accuracy: 0.9447 - val_loss: 0.3153 - val_accuracy: 0.8657\n",
      "Epoch 28/50\n",
      "13/13 [==============================] - 21s 2s/step - loss: 0.1146 - accuracy: 0.9663 - val_loss: 0.2632 - val_accuracy: 0.8806\n",
      "Epoch 29/50\n",
      "13/13 [==============================] - 22s 2s/step - loss: 0.1029 - accuracy: 0.9567 - val_loss: 0.4229 - val_accuracy: 0.8209\n",
      "Epoch 30/50\n",
      "13/13 [==============================] - 20s 2s/step - loss: 0.0905 - accuracy: 0.9712 - val_loss: 0.1939 - val_accuracy: 0.8955\n",
      "Epoch 31/50\n",
      "13/13 [==============================] - 21s 2s/step - loss: 0.0793 - accuracy: 0.9808 - val_loss: 0.2539 - val_accuracy: 0.8582\n",
      "Epoch 32/50\n",
      "13/13 [==============================] - 19s 1s/step - loss: 0.0556 - accuracy: 0.9832 - val_loss: 0.1359 - val_accuracy: 0.9403\n",
      "Epoch 33/50\n",
      "13/13 [==============================] - 19s 1s/step - loss: 0.0622 - accuracy: 0.9760 - val_loss: 0.2351 - val_accuracy: 0.9030\n",
      "Epoch 34/50\n",
      "13/13 [==============================] - 20s 2s/step - loss: 0.0878 - accuracy: 0.9688 - val_loss: 0.2208 - val_accuracy: 0.9179\n",
      "Epoch 35/50\n",
      "13/13 [==============================] - 21s 2s/step - loss: 0.0500 - accuracy: 0.9808 - val_loss: 0.1961 - val_accuracy: 0.9179\n",
      "Epoch 36/50\n",
      "13/13 [==============================] - 18s 1s/step - loss: 0.0669 - accuracy: 0.9736 - val_loss: 0.2557 - val_accuracy: 0.8881\n",
      "Epoch 37/50\n",
      "13/13 [==============================] - 18s 1s/step - loss: 0.0966 - accuracy: 0.9663 - val_loss: 0.1914 - val_accuracy: 0.9254\n",
      "Epoch 38/50\n",
      "13/13 [==============================] - 19s 1s/step - loss: 0.0655 - accuracy: 0.9832 - val_loss: 0.3516 - val_accuracy: 0.8433\n",
      "Epoch 39/50\n",
      "13/13 [==============================] - 19s 1s/step - loss: 0.2113 - accuracy: 0.9351 - val_loss: 0.4880 - val_accuracy: 0.7537\n",
      "Epoch 40/50\n",
      "13/13 [==============================] - 21s 2s/step - loss: 0.2772 - accuracy: 0.8918 - val_loss: 0.4196 - val_accuracy: 0.8582\n",
      "Epoch 41/50\n",
      "13/13 [==============================] - 20s 2s/step - loss: 0.2160 - accuracy: 0.9303 - val_loss: 0.3734 - val_accuracy: 0.8358\n",
      "Epoch 42/50\n",
      "13/13 [==============================] - 19s 1s/step - loss: 0.1437 - accuracy: 0.9519 - val_loss: 0.2878 - val_accuracy: 0.8358\n",
      "Epoch 43/50\n",
      "13/13 [==============================] - 20s 2s/step - loss: 0.1157 - accuracy: 0.9663 - val_loss: 0.1744 - val_accuracy: 0.9179\n",
      "Epoch 44/50\n",
      "13/13 [==============================] - 19s 1s/step - loss: 0.0884 - accuracy: 0.9688 - val_loss: 0.1938 - val_accuracy: 0.9030\n",
      "Epoch 45/50\n",
      "13/13 [==============================] - 19s 1s/step - loss: 0.0686 - accuracy: 0.9784 - val_loss: 0.1764 - val_accuracy: 0.9254\n",
      "Epoch 46/50\n",
      "13/13 [==============================] - 19s 1s/step - loss: 0.0818 - accuracy: 0.9736 - val_loss: 0.1821 - val_accuracy: 0.9104\n",
      "Epoch 47/50\n",
      "13/13 [==============================] - 22s 2s/step - loss: 0.0713 - accuracy: 0.9784 - val_loss: 0.1839 - val_accuracy: 0.9179\n",
      "Epoch 48/50\n",
      "13/13 [==============================] - 22s 2s/step - loss: 0.0474 - accuracy: 0.9856 - val_loss: 0.1845 - val_accuracy: 0.9328\n",
      "Epoch 49/50\n",
      "13/13 [==============================] - 21s 2s/step - loss: 0.0303 - accuracy: 0.9880 - val_loss: 0.2006 - val_accuracy: 0.9179\n",
      "Epoch 50/50\n",
      "13/13 [==============================] - 20s 2s/step - loss: 0.1127 - accuracy: 0.9615 - val_loss: 0.2639 - val_accuracy: 0.8881\n"
     ]
    }
   ],
   "source": [
    "# fit the model\n",
    "# Run the cell. It will take some time to execute\n",
    "r = model.fit_generator(\n",
    "  training_set,\n",
    "  validation_data=test_set,\n",
    "  epochs=50,\n",
    "  steps_per_epoch=len(training_set),\n",
    "  validation_steps=len(test_set)\n",
    ")"
   ]
  },
  {
   "cell_type": "code",
   "execution_count": null,
   "metadata": {},
   "outputs": [],
   "source": []
  },
  {
   "cell_type": "code",
   "execution_count": 21,
   "metadata": {},
   "outputs": [
    {
     "data": {
      "image/png": "[encoded data removed]",
      "text/plain": [
       "<Figure size 432x288 with 1 Axes>"
      ]
     },
     "metadata": {
      "needs_background": "light"
     },
     "output_type": "display_data"
    },
    {
     "data": {
      "image/png": "[encoded data removed]",
      "text/plain": [
       "<Figure size 432x288 with 1 Axes>"
      ]
     },
     "metadata": {
      "needs_background": "light"
     },
     "output_type": "display_data"
    },
    {
     "data": {
      "text/plain": [
       "<Figure size 432x288 with 0 Axes>"
      ]
     },
     "metadata": {},
     "output_type": "display_data"
    }
   ],
   "source": [
    "# plot the loss\n",
    "plt.plot(r.history['loss'], label='train loss')\n",
    "plt.plot(r.history['val_loss'], label='val loss')\n",
    "plt.legend()\n",
    "plt.show()\n",
    "plt.savefig('LossVal_loss')\n",
    "\n",
    "# plot the accuracy\n",
    "plt.plot(r.history['accuracy'], label='train acc')\n",
    "plt.plot(r.history['val_accuracy'], label='val acc')\n",
    "plt.legend()\n",
    "plt.show()\n",
    "plt.savefig('AccVal_acc')"
   ]
  },
  {
   "cell_type": "code",
   "execution_count": 22,
   "metadata": {},
   "outputs": [],
   "source": [
    "# save it as a h5 file\n",
    "\n",
    "\n",
    "from tensorflow.keras.models import load_model\n",
    "\n",
    "model.save('model_vgg19.h5')"
   ]
  },
  {
   "cell_type": "code",
   "execution_count": null,
   "metadata": {},
   "outputs": [],
   "source": []
  },
  {
   "cell_type": "code",
   "execution_count": 23,
   "metadata": {},
   "outputs": [],
   "source": [
    "\n",
    "y_pred = model.predict(test_set)\n"
   ]
  },
  {
   "cell_type": "code",
   "execution_count": 24,
   "metadata": {},
   "outputs": [
    {
     "data": {
      "text/plain": [
       "array([[9.69097733e-01, 3.09022889e-02],\n",
       "       [3.32264036e-01, 6.67735994e-01],\n",
       "       [1.00000000e+00, 1.04664704e-18],\n",
       "       [1.94185585e-01, 8.05814445e-01],\n",
       "       [9.99946356e-01, 5.36000916e-05],\n",
       "       [9.77500796e-01, 2.24992093e-02],\n",
       "       [6.68229461e-02, 9.33177114e-01],\n",
       "       [9.99994874e-01, 5.11157350e-06],\n",
       "       [9.99995708e-01, 4.25712233e-06],\n",
       "       [8.83092918e-03, 9.91169095e-01],\n",
       "       [9.99967933e-01, 3.20337604e-05],\n",
       "       [1.00000000e+00, 4.74372861e-08],\n",
       "       [9.99999404e-01, 5.70300472e-07],\n",
       "       [9.31352496e-01, 6.86474964e-02],\n",
       "       [4.26647440e-02, 9.57335234e-01],\n",
       "       [9.00905430e-01, 9.90946144e-02],\n",
       "       [5.94515465e-02, 9.40548480e-01],\n",
       "       [1.75813306e-02, 9.82418716e-01],\n",
       "       [9.99999881e-01, 1.50781389e-07],\n",
       "       [9.99942660e-01, 5.73868856e-05],\n",
       "       [1.00000000e+00, 9.15808407e-09],\n",
       "       [2.07769033e-02, 9.79223132e-01],\n",
       "       [9.99332726e-01, 6.67300483e-04],\n",
       "       [6.50769830e-01, 3.49230200e-01],\n",
       "       [9.98774111e-01, 1.22586743e-03],\n",
       "       [1.49023026e-01, 8.50977004e-01],\n",
       "       [2.52884597e-01, 7.47115374e-01],\n",
       "       [4.31098551e-01, 5.68901360e-01],\n",
       "       [7.69889951e-02, 9.23010945e-01],\n",
       "       [3.62089187e-01, 6.37910783e-01],\n",
       "       [9.99976516e-01, 2.35106090e-05],\n",
       "       [1.00000000e+00, 3.43643029e-13],\n",
       "       [9.99953747e-01, 4.62753014e-05],\n",
       "       [9.94509935e-01, 5.49003202e-03],\n",
       "       [7.63631761e-02, 9.23636794e-01],\n",
       "       [1.33533761e-01, 8.66466224e-01],\n",
       "       [1.00000000e+00, 1.31658878e-10],\n",
       "       [1.00000000e+00, 6.83257784e-10],\n",
       "       [9.99995351e-01, 4.64836739e-06],\n",
       "       [9.99827504e-01, 1.72414642e-04],\n",
       "       [2.46753514e-01, 7.53246486e-01],\n",
       "       [1.41044138e-02, 9.85895574e-01],\n",
       "       [9.99921560e-01, 7.83978103e-05],\n",
       "       [1.00000000e+00, 1.48518757e-17],\n",
       "       [1.42720953e-01, 8.57279122e-01],\n",
       "       [8.71735960e-02, 9.12826419e-01],\n",
       "       [6.81289017e-01, 3.18710953e-01],\n",
       "       [2.70286679e-01, 7.29713321e-01],\n",
       "       [1.00000000e+00, 1.56536550e-09],\n",
       "       [9.98220742e-01, 1.77922624e-03],\n",
       "       [1.45348758e-01, 8.54651272e-01],\n",
       "       [9.99998331e-01, 1.62775189e-06],\n",
       "       [1.00000000e+00, 3.69745088e-08],\n",
       "       [1.28022283e-01, 8.71977746e-01],\n",
       "       [9.99990702e-01, 9.30321585e-06],\n",
       "       [9.99989986e-01, 9.97237021e-06],\n",
       "       [1.00000000e+00, 2.45728743e-10],\n",
       "       [1.00000000e+00, 1.84779037e-08],\n",
       "       [2.19774395e-01, 7.80225575e-01],\n",
       "       [9.99973655e-01, 2.62882040e-05],\n",
       "       [1.62830666e-01, 8.37169290e-01],\n",
       "       [9.99999881e-01, 6.14165145e-08],\n",
       "       [1.24830931e-01, 8.75169098e-01],\n",
       "       [9.99900460e-01, 9.95218725e-05],\n",
       "       [9.97889221e-01, 2.11081631e-03],\n",
       "       [7.70533904e-02, 9.22946572e-01],\n",
       "       [3.12151434e-03, 9.96878505e-01],\n",
       "       [2.64425576e-01, 7.35574365e-01],\n",
       "       [7.34291822e-02, 9.26570833e-01],\n",
       "       [1.29785202e-02, 9.87021506e-01],\n",
       "       [9.14203882e-01, 8.57961252e-02],\n",
       "       [9.99943137e-01, 5.69146432e-05],\n",
       "       [9.99949098e-01, 5.09455276e-05],\n",
       "       [8.94543469e-01, 1.05456546e-01],\n",
       "       [9.99408007e-01, 5.91979129e-04],\n",
       "       [9.99999762e-01, 1.91453566e-07],\n",
       "       [9.99998689e-01, 1.34271465e-06],\n",
       "       [9.99999523e-01, 5.03490071e-07],\n",
       "       [9.99890566e-01, 1.09424866e-04],\n",
       "       [3.36643487e-01, 6.63356543e-01],\n",
       "       [3.77597497e-03, 9.96224046e-01],\n",
       "       [4.53944832e-01, 5.46055138e-01],\n",
       "       [3.15830135e-03, 9.96841669e-01],\n",
       "       [1.74550384e-01, 8.25449646e-01],\n",
       "       [9.99999881e-01, 6.33533901e-08],\n",
       "       [1.00000000e+00, 2.55108166e-08],\n",
       "       [2.83533670e-02, 9.71646607e-01],\n",
       "       [2.85708040e-01, 7.14291930e-01],\n",
       "       [9.99994397e-01, 5.57478097e-06],\n",
       "       [9.52535748e-01, 4.74642552e-02],\n",
       "       [9.99998569e-01, 1.40900170e-06],\n",
       "       [7.67483413e-02, 9.23251629e-01],\n",
       "       [9.99772012e-01, 2.28035933e-04],\n",
       "       [8.80705472e-03, 9.91192997e-01],\n",
       "       [9.56191301e-01, 4.38086800e-02],\n",
       "       [8.74007046e-01, 1.25992924e-01],\n",
       "       [1.00000000e+00, 4.54225280e-09],\n",
       "       [9.99992490e-01, 7.54951498e-06],\n",
       "       [9.86472249e-01, 1.35277696e-02],\n",
       "       [9.18685853e-01, 8.13141093e-02],\n",
       "       [9.55349743e-01, 4.46502045e-02],\n",
       "       [9.99985456e-01, 1.45961403e-05],\n",
       "       [3.07607174e-01, 6.92392826e-01],\n",
       "       [9.94482398e-01, 5.51766204e-03],\n",
       "       [9.99999881e-01, 8.83821087e-08],\n",
       "       [9.99966979e-01, 3.30553194e-05],\n",
       "       [1.43073097e-01, 8.56926858e-01],\n",
       "       [3.69544774e-02, 9.63045537e-01],\n",
       "       [9.99997139e-01, 2.80692893e-06],\n",
       "       [9.87503827e-01, 1.24961343e-02],\n",
       "       [9.99997377e-01, 2.63167362e-06],\n",
       "       [9.94832993e-01, 5.16699068e-03],\n",
       "       [2.19983011e-01, 7.80016959e-01],\n",
       "       [9.22916532e-02, 9.07708406e-01],\n",
       "       [1.39329284e-01, 8.60670686e-01],\n",
       "       [1.00000000e+00, 1.77541436e-11],\n",
       "       [7.95428216e-01, 2.04571843e-01],\n",
       "       [9.81711149e-01, 1.82888899e-02],\n",
       "       [1.00000000e+00, 3.59457708e-08],\n",
       "       [1.39596211e-02, 9.86040354e-01],\n",
       "       [9.99996424e-01, 3.57150975e-06],\n",
       "       [1.00000000e+00, 3.77055970e-10],\n",
       "       [1.21017098e-01, 8.78982961e-01],\n",
       "       [1.05872862e-01, 8.94127131e-01],\n",
       "       [9.96025562e-01, 3.97440419e-03],\n",
       "       [9.93137002e-01, 6.86304644e-03],\n",
       "       [9.99853849e-01, 1.46184640e-04],\n",
       "       [5.74814022e-01, 4.25185978e-01],\n",
       "       [9.92569268e-01, 7.43071828e-03],\n",
       "       [7.75412142e-01, 2.24587843e-01],\n",
       "       [9.98107076e-01, 1.89290324e-03],\n",
       "       [8.16193521e-02, 9.18380618e-01],\n",
       "       [9.99999642e-01, 3.57612066e-07],\n",
       "       [2.55453195e-02, 9.74454701e-01]], dtype=float32)"
      ]
     },
     "execution_count": 24,
     "metadata": {},
     "output_type": "execute_result"
    }
   ],
   "source": [
    "y_pred"
   ]
  },
  {
   "cell_type": "code",
   "execution_count": 25,
   "metadata": {},
   "outputs": [],
   "source": [
    "import numpy as np\n",
    "y_pred = np.argmax(y_pred, axis=1)"
   ]
  },
  {
   "cell_type": "code",
   "execution_count": 26,
   "metadata": {},
   "outputs": [
    {
     "data": {
      "text/plain": [
       "array([0, 1, 0, 1, 0, 0, 1, 0, 0, 1, 0, 0, 0, 0, 1, 0, 1, 1, 0, 0, 0, 1,\n",
       "       0, 0, 0, 1, 1, 1, 1, 1, 0, 0, 0, 0, 1, 1, 0, 0, 0, 0, 1, 1, 0, 0,\n",
       "       1, 1, 0, 1, 0, 0, 1, 0, 0, 1, 0, 0, 0, 0, 1, 0, 1, 0, 1, 0, 0, 1,\n",
       "       1, 1, 1, 1, 0, 0, 0, 0, 0, 0, 0, 0, 0, 1, 1, 1, 1, 1, 0, 0, 1, 1,\n",
       "       0, 0, 0, 1, 0, 1, 0, 0, 0, 0, 0, 0, 0, 0, 1, 0, 0, 0, 1, 1, 0, 0,\n",
       "       0, 0, 1, 1, 1, 0, 0, 0, 0, 1, 0, 0, 1, 1, 0, 0, 0, 0, 0, 0, 0, 1,\n",
       "       0, 1], dtype=int64)"
      ]
     },
     "execution_count": 26,
     "metadata": {},
     "output_type": "execute_result"
    }
   ],
   "source": [
    "y_pred"
   ]
  },
  {
   "cell_type": "code",
   "execution_count": null,
   "metadata": {},
   "outputs": [],
   "source": []
  },
  {
   "cell_type": "code",
   "execution_count": 27,
   "metadata": {},
   "outputs": [],
   "source": [
    "from tensorflow.keras.models import load_model\n",
    "from tensorflow.keras.preprocessing import image"
   ]
  },
  {
   "cell_type": "code",
   "execution_count": 28,
   "metadata": {},
   "outputs": [],
   "source": [
    "model=load_model('model_vgg19.h5')"
   ]
  },
  {
   "cell_type": "code",
   "execution_count": null,
   "metadata": {},
   "outputs": [],
   "source": []
  },
  {
   "cell_type": "code",
   "execution_count": 30,
   "metadata": {},
   "outputs": [],
   "source": [
    "img=image.load_img('Dataset/Test/Uninfected/2.png',target_size=(224,224))\n",
    "\n"
   ]
  },
  {
   "cell_type": "code",
   "execution_count": 31,
   "metadata": {},
   "outputs": [
    {
     "data": {
      "text/plain": [
       "array([[[0., 0., 0.],\n",
       "        [0., 0., 0.],\n",
       "        [0., 0., 0.],\n",
       "        ...,\n",
       "        [0., 0., 0.],\n",
       "        [0., 0., 0.],\n",
       "        [0., 0., 0.]],\n",
       "\n",
       "       [[0., 0., 0.],\n",
       "        [0., 0., 0.],\n",
       "        [0., 0., 0.],\n",
       "        ...,\n",
       "        [0., 0., 0.],\n",
       "        [0., 0., 0.],\n",
       "        [0., 0., 0.]],\n",
       "\n",
       "       [[0., 0., 0.],\n",
       "        [0., 0., 0.],\n",
       "        [0., 0., 0.],\n",
       "        ...,\n",
       "        [0., 0., 0.],\n",
       "        [0., 0., 0.],\n",
       "        [0., 0., 0.]],\n",
       "\n",
       "       ...,\n",
       "\n",
       "       [[0., 0., 0.],\n",
       "        [0., 0., 0.],\n",
       "        [0., 0., 0.],\n",
       "        ...,\n",
       "        [0., 0., 0.],\n",
       "        [0., 0., 0.],\n",
       "        [0., 0., 0.]],\n",
       "\n",
       "       [[0., 0., 0.],\n",
       "        [0., 0., 0.],\n",
       "        [0., 0., 0.],\n",
       "        ...,\n",
       "        [0., 0., 0.],\n",
       "        [0., 0., 0.],\n",
       "        [0., 0., 0.]],\n",
       "\n",
       "       [[0., 0., 0.],\n",
       "        [0., 0., 0.],\n",
       "        [0., 0., 0.],\n",
       "        ...,\n",
       "        [0., 0., 0.],\n",
       "        [0., 0., 0.],\n",
       "        [0., 0., 0.]]], dtype=float32)"
      ]
     },
     "execution_count": 31,
     "metadata": {},
     "output_type": "execute_result"
    }
   ],
   "source": [
    "x=image.img_to_array(img)\n",
    "x"
   ]
  },
  {
   "cell_type": "code",
   "execution_count": 32,
   "metadata": {},
   "outputs": [
    {
     "data": {
      "text/plain": [
       "(224, 224, 3)"
      ]
     },
     "execution_count": 32,
     "metadata": {},
     "output_type": "execute_result"
    }
   ],
   "source": [
    "x.shape"
   ]
  },
  {
   "cell_type": "code",
   "execution_count": 33,
   "metadata": {},
   "outputs": [],
   "source": [
    "x=x/255"
   ]
  },
  {
   "cell_type": "code",
   "execution_count": 34,
   "metadata": {},
   "outputs": [
    {
     "data": {
      "text/plain": [
       "(1, 224, 224, 3)"
      ]
     },
     "execution_count": 34,
     "metadata": {},
     "output_type": "execute_result"
    }
   ],
   "source": [
    "x=np.expand_dims(x,axis=0)\n",
    "img_data=preprocess_input(x)\n",
    "img_data.shape"
   ]
  },
  {
   "cell_type": "code",
   "execution_count": 35,
   "metadata": {},
   "outputs": [
    {
     "data": {
      "text/plain": [
       "array([[1., 0.]], dtype=float32)"
      ]
     },
     "execution_count": 35,
     "metadata": {},
     "output_type": "execute_result"
    }
   ],
   "source": [
    "model.predict(img_data)"
   ]
  },
  {
   "cell_type": "code",
   "execution_count": 36,
   "metadata": {},
   "outputs": [],
   "source": [
    "a=np.argmax(model.predict(img_data), axis=1)"
   ]
  },
  {
   "cell_type": "code",
   "execution_count": 38,
   "metadata": {},
   "outputs": [
    {
     "data": {
      "text/plain": [
       "array([0], dtype=int64)"
      ]
     },
     "execution_count": 38,
     "metadata": {},
     "output_type": "execute_result"
    }
   ],
   "source": [
    "a"
   ]
  },
  {
   "cell_type": "code",
   "execution_count": null,
   "metadata": {},
   "outputs": [],
   "source": []
  },
  {
   "cell_type": "code",
   "execution_count": 37,
   "metadata": {},
   "outputs": [
    {
     "name": "stdout",
     "output_type": "stream",
     "text": [
      "Infected\n"
     ]
    }
   ],
   "source": [
    "if(a==1):\n",
    "    print(\"Uninfected\")\n",
    "else:\n",
    "    print(\"Infected\")"
   ]
  },
  {
   "cell_type": "code",
   "execution_count": null,
   "metadata": {},
   "outputs": [],
   "source": []
  },
  {
   "cell_type": "code",
   "execution_count": null,
   "metadata": {},
   "outputs": [],
   "source": []
  }
 ],
 "metadata": {
  "kernelspec": {
   "display_name": "Python 3",
   "language": "python",
   "name": "python3"
  },
  "language_info": {
   "codemirror_mode": {
    "name": "ipython",
    "version": 3
   },
   "file_extension": ".py",
   "mimetype": "text/x-python",
   "name": "python",
   "nbconvert_exporter": "python",
   "pygments_lexer": "ipython3",
   "version": "3.7.4"
  }
 },
 "nbformat": 4,
 "nbformat_minor": 2
}
